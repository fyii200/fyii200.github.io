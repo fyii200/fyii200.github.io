{
 "cells": [
  {
   "cell_type": "code",
   "execution_count": 267,
   "id": "970b378a",
   "metadata": {},
   "outputs": [],
   "source": [
    "import numpy as np\n",
    "import matplotlib.pyplot as plt"
   ]
  },
  {
   "cell_type": "code",
   "execution_count": 268,
   "id": "982da465",
   "metadata": {},
   "outputs": [],
   "source": [
    "def magnification(AL, AP):\n",
    "    \"\"\"\"\"\n",
    "    AL: axial length (mm)\n",
    "    AP: distance from corneal apex to secondary principal point of the eye (mm)\n",
    "    \n",
    "    Assumption:\n",
    "    1. West German Zeiss fundus camera with telecentric design; thus, camera magnification constant, p, is 1.37\n",
    "    \n",
    "    Return:\n",
    "    total magnification\n",
    "    \"\"\"\"\"\n",
    "    k = AL - AP\n",
    "    return 1 / (0.01309*k*1.37)\n",
    "\n",
    "def F_eye_to_ametropia(F_eye, k=22.04):\n",
    "    \"\"\"\"\"\n",
    "    F_eye: equivalent power of the eye\n",
    "    k: distance between the secondary principal point of the eye and retina\n",
    "    \n",
    "    Return:\n",
    "    ametropia given F_eye assuming that 'k' is normal (as per Gullstrand-Emsley emmetropic eye), i.e. 22.04mm\n",
    "    \"\"\"\"\"\n",
    "    k = k/1000\n",
    "    ametropia = (1.333 / k) - F_eye\n",
    "    return ametropia\n",
    "\n",
    "def ametropia_to_AL(ametropia, F_eye=60.49):\n",
    "    \"\"\"\"\"\n",
    "    F_eye: equivalent power of the eye\n",
    "    ametropia: amount of refractive error in diopter\n",
    "    \n",
    "    Return:\n",
    "    Axial length (m) of a given ametropic eye assuming that F_eye is normal (as per Gullstrand-Emsley emmetropic eye)\n",
    "    \n",
    "    Note:\n",
    "    'k' is distance between secondary principal point of the eye and retina\n",
    "    AL is 'k' plus the distance between corneal apex and secondary principal point, which is 1.85mm or 0.00185m\n",
    "    \"\"\"\"\"\n",
    "    k = 1.333 / (F_eye + ametropia)\n",
    "    AL = 0.00185 + k\n",
    "\n",
    "    return AL"
   ]
  },
  {
   "cell_type": "markdown",
   "id": "e1c6d84e",
   "metadata": {},
   "source": [
    "### Emmetropia"
   ]
  },
  {
   "cell_type": "code",
   "execution_count": 269,
   "id": "63496c32",
   "metadata": {},
   "outputs": [
    {
     "name": "stdout",
     "output_type": "stream",
     "text": [
      "Magnification if emmetropic: 2.530\n"
     ]
    }
   ],
   "source": [
    "AL = 23.89\n",
    "AP = 1.85\n",
    "\n",
    "# total magnification in an emmetropic eye\n",
    "emm_mag = magnification(AL=AL, AP=AP)\n",
    "print('Magnification if emmetropic: {:.3f}'.format(emm_mag))"
   ]
  },
  {
   "cell_type": "markdown",
   "id": "6f541c13",
   "metadata": {},
   "source": [
    "### Refractive ametropia"
   ]
  },
  {
   "cell_type": "code",
   "execution_count": 270,
   "id": "18e7a753",
   "metadata": {},
   "outputs": [],
   "source": [
    "refractive_ametropia = {'F_eye':[51.24, 56.2, 61.6, 55.65, 65.76, 60.55, 65.26, 70.39],\n",
    "                        'AP':[1.65, 2.03, 2.35, 1.5, 2.17, 1.35, 1.69, 1.98],\n",
    "                        'ametropia':[],\n",
    "                       'magnification':[] }\n",
    "\n",
    "for F_eye in refractive_ametropia['F_eye']:\n",
    "    refractive_ametropia['ametropia'].append( F_eye_to_ametropia(F_eye=F_eye) )\n",
    "    \n",
    "for AP in refractive_ametropia['AP']:\n",
    "    mag = magnification(AL=23.89, AP=AP)\n",
    "    refractive_ametropia['magnification'].append(mag)\n"
   ]
  },
  {
   "cell_type": "markdown",
   "id": "9f0e678e",
   "metadata": {},
   "source": [
    "### Axial ametropia"
   ]
  },
  {
   "cell_type": "code",
   "execution_count": 271,
   "id": "1095b0e8",
   "metadata": {},
   "outputs": [],
   "source": [
    "axial_ametropia = {'ametropia':refractive_ametropia['ametropia'],\n",
    "                   'AL':[],\n",
    "                   'magnification':[] }\n",
    "\n",
    "for ametropia in axial_ametropia['ametropia']:\n",
    "    axial_ametropia['AL'].append( ametropia_to_AL(ametropia)*1000 )\n",
    "\n",
    "for AL in axial_ametropia['AL']:\n",
    "    axial_ametropia['magnification'].append(magnification(AL=AL, AP=1.85))\n",
    "    "
   ]
  },
  {
   "cell_type": "markdown",
   "id": "75ba55ce",
   "metadata": {},
   "source": [
    "## Total Magnification vs Ametropia"
   ]
  },
  {
   "cell_type": "code",
   "execution_count": 272,
   "id": "3fee7eac",
   "metadata": {},
   "outputs": [
    {
     "name": "stderr",
     "output_type": "stream",
     "text": [
      "/var/folders/xk/bdgzxxls64346jd8qwvwv5v80000gn/T/ipykernel_42396/3965430119.py:12: MatplotlibDeprecationWarning: Passing the pad parameter of tight_layout() positionally is deprecated since Matplotlib 3.3; the parameter will become keyword-only two minor releases later.\n",
      "  plt.tight_layout(True)\n"
     ]
    },
    {
     "data": {
      "image/png": "[encoded data removed]",
      "text/plain": [
       "<Figure size 576x432 with 1 Axes>"
      ]
     },
     "metadata": {
      "needs_background": "light"
     },
     "output_type": "display_data"
    }
   ],
   "source": [
    "fig = plt.figure(figsize=(8,6))\n",
    "ax = fig.add_subplot(111)\n",
    "ax.plot(refractive_ametropia['ametropia'], refractive_ametropia['magnification'], 'o', label='Refractive')\n",
    "ax.plot(axial_ametropia['ametropia'], axial_ametropia['magnification'], 'o', label='Axial')\n",
    "ax.axhline(y=2.54, color='black', linestyle='--', label='Emmetropia')\n",
    "ax.spines[['top', 'right', 'bottom', 'left']].set_visible(False)\n",
    "plt.grid(alpha=0.3)\n",
    "plt.xlabel('Ametropia (D)', fontsize=15)\n",
    "plt.ylabel('Total Magnification', fontsize=15)\n",
    "plt.legend()\n",
    "\n",
    "plt.tight_layout(True)\n",
    "plt.savefig('figures/2021-12-29-fig2.png')\n"
   ]
  },
  {
   "cell_type": "markdown",
   "id": "5148df9e",
   "metadata": {},
   "source": [
    "## Ametropic/Emmetropic Magnification vs Ametropia"
   ]
  },
  {
   "cell_type": "code",
   "execution_count": 288,
   "id": "2d9dbb4b",
   "metadata": {},
   "outputs": [
    {
     "name": "stderr",
     "output_type": "stream",
     "text": [
      "/var/folders/xk/bdgzxxls64346jd8qwvwv5v80000gn/T/ipykernel_42396/2015399805.py:23: MatplotlibDeprecationWarning: Passing the pad parameter of tight_layout() positionally is deprecated since Matplotlib 3.3; the parameter will become keyword-only two minor releases later.\n",
      "  plt.tight_layout(True)\n"
     ]
    },
    {
     "data": {
      "image/png": "[encoded data removed]",
      "text/plain": [
       "<Figure size 576x432 with 1 Axes>"
      ]
     },
     "metadata": {
      "needs_background": "light"
     },
     "output_type": "display_data"
    }
   ],
   "source": [
    "refractive_mag_ratio = np.array(refractive_ametropia['magnification'] ) / emm_mag\n",
    "axial_mag_ratio = np.array(axial_ametropia['magnification']) / emm_mag\n",
    "\n",
    "fig = plt.figure(figsize=(8,6))\n",
    "ax = fig.add_subplot(111)\n",
    "\n",
    "x = np.array(refractive_ametropia['ametropia'])\n",
    "\n",
    "ax.plot(x, refractive_mag_ratio, 'o', label='Refractive')\n",
    "m,b = np.polyfit(x, refractive_mag_ratio, 1)\n",
    "ax.plot(x, m*x+b, 'b')\n",
    "\n",
    "ax.plot(x, axial_mag_ratio, 'o', label='Axial')\n",
    "m,b = np.polyfit(x, axial_mag_ratio, 1)\n",
    "ax.plot(x, m*x+b, 'orange')\n",
    "\n",
    "ax.spines[['top', 'right', 'bottom', 'left']].set_visible(False)\n",
    "plt.xlabel('Ametropia (D)', fontsize=15)\n",
    "plt.ylabel('Magnification ratio', fontsize=15)\n",
    "plt.grid(alpha=0.3)\n",
    "plt.legend()\n",
    "\n",
    "plt.tight_layout(True)\n",
    "plt.savefig('figures/2021-12-29-fig3.png')"
   ]
  },
  {
   "cell_type": "code",
   "execution_count": 289,
   "id": "c03705f1",
   "metadata": {},
   "outputs": [
    {
     "data": {
      "text/plain": [
       "0.016534133533383347"
      ]
     },
     "execution_count": 289,
     "metadata": {},
     "output_type": "execute_result"
    }
   ],
   "source": [
    "m"
   ]
  },
  {
   "cell_type": "code",
   "execution_count": 285,
   "id": "67af1b55",
   "metadata": {},
   "outputs": [
    {
     "data": {
      "image/png": "[encoded data removed]",
      "text/plain": [
       "<Figure size 576x432 with 1 Axes>"
      ]
     },
     "metadata": {
      "needs_background": "light"
     },
     "output_type": "display_data"
    }
   ],
   "source": [
    "refractive_mag_ratio = np.array(refractive_ametropia['magnification'] ) / emm_mag\n",
    "axial_mag_ratio = np.array(axial_ametropia['magnification']) / emm_mag\n",
    "\n",
    "fig = plt.figure(figsize=(8,6))\n",
    "ax = fig.add_subplot(111)\n",
    "\n",
    "x = np.array(refractive_ametropia['ametropia'])\n",
    "\n",
    "ax.plot(x, refractive_mag_ratio, 'o', label='Refractive')\n",
    "m,b = np.polyfit(x, refractive_mag_ratio, 1)"
   ]
  },
  {
   "cell_type": "code",
   "execution_count": 287,
   "id": "6e1b9e57",
   "metadata": {},
   "outputs": [
    {
     "data": {
      "text/plain": [
       "1.9195107931585542"
      ]
     },
     "execution_count": 287,
     "metadata": {},
     "output_type": "execute_result"
    }
   ],
   "source": [
    "1.923*(1+m*2)"
   ]
  }
 ],
 "metadata": {
  "kernelspec": {
   "display_name": "Python 3 (ipykernel)",
   "language": "python",
   "name": "python3"
  },
  "language_info": {
   "codemirror_mode": {
    "name": "ipython",
    "version": 3
   },
   "file_extension": ".py",
   "mimetype": "text/x-python",
   "name": "python",
   "nbconvert_exporter": "python",
   "pygments_lexer": "ipython3",
   "version": "3.9.7"
  }
 },
 "nbformat": 4,
 "nbformat_minor": 5
}
